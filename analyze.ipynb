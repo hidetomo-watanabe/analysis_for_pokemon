{
 "cells": [
  {
   "cell_type": "code",
   "execution_count": null,
   "metadata": {},
   "outputs": [],
   "source": [
    "import pandas as pd\n",
    "from sklearn.manifold import TSNE\n",
    "\n",
    "# %matplotlib notebook\n",
    "import matplotlib.pyplot as plt\n",
    "import japanize_matplotlib"
   ]
  },
  {
   "cell_type": "code",
   "execution_count": null,
   "metadata": {},
   "outputs": [],
   "source": [
    "df = pd.read_csv('base_stats.csv')\n",
    "value_cols = ['H', 'A', 'B', 'C', 'D', 'S', '合計']\n",
    "df[value_cols] = df[value_cols].replace('-', 0).astype(int)\n",
    "data = TSNE(n_components=2, random_state=42).fit_transform(df[['H', 'A', 'B', 'C', 'D', 'S']])"
   ]
  },
  {
   "cell_type": "code",
   "execution_count": null,
   "metadata": {
    "scrolled": false
   },
   "outputs": [],
   "source": [
    "plt.figure(figsize=(30, 20))\n",
    "_edge = 5\n",
    "plt.xlim(data[:, 0].min()-_edge, data[:, 0].max()+_edge)\n",
    "plt.ylim(data[:, 1].min()-_edge, data[:, 1].max()+_edge)\n",
    "plt.xlabel('component 0')\n",
    "plt.ylabel('component 1')\n",
    "for x, label, _sum in zip(data, df.ポケモン, df.合計):\n",
    "    _fontsize = _sum / df.合計.max() * 20\n",
    "    plt.text(\n",
    "        x[0], x[1], label,\n",
    "        fontsize=_fontsize,\n",
    "        bbox=dict(boxstyle='round', facecolor='yellow', alpha=0.5))\n",
    "plt.show()"
   ]
  }
 ],
 "metadata": {
  "kernelspec": {
   "display_name": "Python 3",
   "language": "python",
   "name": "python3"
  },
  "language_info": {
   "codemirror_mode": {
    "name": "ipython",
    "version": 3
   },
   "file_extension": ".py",
   "mimetype": "text/x-python",
   "name": "python",
   "nbconvert_exporter": "python",
   "pygments_lexer": "ipython3",
   "version": "3.6.10"
  }
 },
 "nbformat": 4,
 "nbformat_minor": 4
}
